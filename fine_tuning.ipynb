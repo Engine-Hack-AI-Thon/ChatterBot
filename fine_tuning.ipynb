{
 "cells": [
  {
   "metadata": {
    "ExecuteTime": {
     "end_time": "2025-03-26T02:18:44.081517Z",
     "start_time": "2025-03-26T02:18:44.074543Z"
    }
   },
   "cell_type": "code",
   "source": [
    "import os\n",
    "import openai\n",
    "import time\n"
   ],
   "id": "75326fd9940a3dbd",
   "outputs": [],
   "execution_count": 2
  },
  {
   "metadata": {
    "ExecuteTime": {
     "end_time": "2025-03-26T02:18:46.819992Z",
     "start_time": "2025-03-26T02:18:46.816048Z"
    }
   },
   "cell_type": "code",
   "source": [
    "def upload_training_file(file_path):\n",
    "    \"\"\"\n",
    "    Uploads the chatterbot training dataset (in JSONL format) to OpenAI.\n",
    "    Each JSON object should have a \"prompt\" with a learner's sentence (possibly with errors)\n",
    "    and a \"completion\" with the corrected sentence and explanation.\n",
    "    Returns the file ID needed to start the fine-tuning process.\n",
    "    \"\"\"\n",
    "    with open(file_path, \"rb\") as f:\n",
    "        response = openai.File.create(\n",
    "            file=f,\n",
    "            purpose=\"fine-tune\"\n",
    "        )\n",
    "    return response[\"id\"]"
   ],
   "id": "ed011c0717b4b4fb",
   "outputs": [],
   "execution_count": 3
  },
  {
   "metadata": {
    "ExecuteTime": {
     "end_time": "2025-03-26T02:19:09.950466Z",
     "start_time": "2025-03-26T02:19:09.945111Z"
    }
   },
   "cell_type": "code",
   "source": [
    "def create_fine_tune_job(training_file_id, model=\"davinci\", n_epochs=4):\n",
    "    \"\"\"\n",
    "    Creates a fine-tuning job for chatterbot using the uploaded training file.\n",
    "    Parameters:\n",
    "      - training_file_id: The file ID returned from uploading the dataset.\n",
    "      - model: The base model to fine-tune (using \"davinci\" here, but can be adjusted).\n",
    "      - n_epochs: Number of passes over the dataset.\n",
    "    Returns the response from the fine-tuning creation request.\n",
    "    \"\"\"\n",
    "    response = openai.FineTune.create(\n",
    "        training_file=training_file_id,\n",
    "        model=model,\n",
    "        n_epochs=n_epochs\n",
    "    )\n",
    "    return response"
   ],
   "id": "6cd3a6797c83c926",
   "outputs": [],
   "execution_count": 4
  },
  {
   "metadata": {
    "ExecuteTime": {
     "end_time": "2025-03-26T02:19:12.695235Z",
     "start_time": "2025-03-26T02:19:12.690232Z"
    }
   },
   "cell_type": "code",
   "source": [
    "def poll_fine_tune_job(fine_tune_job_id, interval=60):\n",
    "    \"\"\"\n",
    "    Polls the fine-tuning job status every 'interval' seconds.\n",
    "    The function prints the status and returns once the job has succeeded or failed.\n",
    "    \"\"\"\n",
    "    while True:\n",
    "        job_status = openai.FineTune.retrieve(fine_tune_job_id)\n",
    "        status = job_status[\"status\"]\n",
    "        print(\"Job status:\", status)\n",
    "        if status in [\"succeeded\", \"failed\"]:\n",
    "            break\n",
    "        time.sleep(interval)\n",
    "    return job_status"
   ],
   "id": "b4b5736e879db951",
   "outputs": [],
   "execution_count": 5
  },
  {
   "metadata": {},
   "cell_type": "code",
   "outputs": [],
   "execution_count": null,
   "source": [
    "def main():\n",
    "    # Ensure your OpenAI API key is stored in an environment variable named \"OPENAI_API_KEY\"\n",
    "    openai.api_key = os.getenv(\"OPENAI_API_KEY\")\n",
    "\n",
    "    # Define the path to your chatterbot training dataset file\n",
    "    training_file_path = \"chatterbot_training_data.jsonl\"\n",
    "\n",
    "    # Step 1: Upload the training file to OpenAI\n",
    "    print(\"Uploading training data for chatterbot...\")\n",
    "    training_file_id = upload_training_file(training_file_path)\n",
    "    print(\"Training file uploaded. File ID:\", training_file_id)\n",
    "\n",
    "    # Step 2: Create a fine-tuning job using the uploaded training file\n",
    "    print(\"Creating fine-tuning job...\")\n",
    "    fine_tune_response = create_fine_tune_job(training_file_id, model=\"davinci\", n_epochs=4)\n",
    "    fine_tune_job_id = fine_tune_response[\"id\"]\n",
    "    print(\"Fine-tuning job created with ID:\", fine_tune_job_id)\n",
    "\n",
    "    # Step 3: Poll the fine-tuning job status until completion\n",
    "    print(\"Polling fine-tuning job status...\")\n",
    "    final_status = poll_fine_tune_job(fine_tune_job_id, interval=60)\n",
    "\n",
    "    # Step 4: Check if the fine-tuning was successful and display the resulting model name\n",
    "    if final_status[\"status\"] == \"succeeded\":\n",
    "        print(\"Fine-tuning job succeeded.\")\n",
    "        print(\"Your fine-tuned chatterbot model is:\", final_status[\"fine_tuned_model\"])\n",
    "    else:\n",
    "        print(\"Fine-tuning job failed. Final status details:\", final_status)\n"
   ],
   "id": "f9322f610422e265"
  }
 ],
 "metadata": {
  "kernelspec": {
   "name": "python3",
   "language": "python",
   "display_name": "Python 3 (ipykernel)"
  }
 },
 "nbformat": 5,
 "nbformat_minor": 9
}
